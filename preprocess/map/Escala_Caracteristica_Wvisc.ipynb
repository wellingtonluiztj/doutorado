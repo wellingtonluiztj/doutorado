{
 "cells": [
  {
   "cell_type": "markdown",
   "id": "ffe80a29",
   "metadata": {},
   "source": [
    "# Sistema Real\n",
    "\n",
    "## Calculando o número de Reynolds\n",
    "\n",
    "Tomando que **R-1** tem comprimento $L=7.07\\,cm,$ temos\n",
    "$$Re=\\frac{\\mathbf{u}L_x}{\\nu}=\\frac{7.917\\times 10^{-11}m/s\\times 7.07\\times 10^{-2}m}{0.6752\\times 10^{-6}\\,m^2/s}=8.289\\times 10^{-6}$$\n",
    "\n",
    "## Definindo o número de Mach\n",
    "\n",
    "O número de Mach deve ser $Ma<0.3$ para que o fluido esteja em um regime incompressível, ou seja, tenha densidade constante. Dados os valores experimentais, temos\n",
    "\n",
    "A vasão é $Q=0.10mL/min$ ou em SI é $Q=1.6\\times10^{-7}m^{3}/s$. Portanto a velocidade média do fluido é dada por \n",
    "\n",
    "$$\\mathbf{u}=Q\\cdot A.$$\n",
    "\n",
    "Escolhemos, a princípio, o core **R-1** com raio $1.255cm,$ e, portanto, área $A=4.948cm^2=4.948\\times 10^{-4}m^2.$ \n",
    "Dessa forma,temos que \n",
    "\n",
    "$$\\mathbf{u}=\\left(1.6\\times10^{-7}m^{3}/s\\right)\\times \\left(4.948\\times 10^{-4}m^2\\right)=7.917\\times 10^{-11}m/s$$\n",
    "\n",
    "Agora, para calcular o número de Mach, fazemos\n",
    "\n",
    "$$Ma=\\frac{7.917\\times 10^{-9}\\,m/s}{340.29\\,m/s}=2.33\\times 10^{-13}\\ll 0.3$$\n",
    "\n",
    "## Calculando o número de Knudsen\n",
    "\n",
    "O número de Knudsen é dado por $$Kn=\\frac{Ma}{Kn}=\\frac{2.330\\times 10^{-11}}{8.289\\times 10^{-6}}=2.81\\times 10^{-8}$$"
   ]
  },
  {
   "cell_type": "code",
   "execution_count": 10,
   "id": "43a565e8",
   "metadata": {},
   "outputs": [
    {
     "name": "stdout",
     "output_type": "stream",
     "text": [
      "What Scale you want to work (mm), (cm)? cm\n",
      "O número de Reynolds é 8.285601894549761e-06, o número de Mach é 2.3253476740427276e-13 e o de Knudsen é 2.806492157886964e-08.\n"
     ]
    }
   ],
   "source": [
    "# Aqui, calculamos o número de Reynolds, Mach e Knudsen\n",
    "c = 340.29\n",
    "scale = str(input('What Scale you want to work (mm), (cm)? '))\n",
    "if scale == 'mm':\n",
    "    tens = 10**(-6)# Definido em metros\n",
    "    L = float(input('Comprimento da amostra em micrometros: '))\n",
    "    L = L*(tens)\n",
    "    nu = float(input('Viscosidade do fluido: '))\n",
    "    nu = nu*10**(-6)\n",
    "    raio = float(input('Raio da amostra: '))\n",
    "    raio = raio*tens\n",
    "    A = 3.14*raio**2\n",
    "    vasao = float(input('Vasão em m^3/s: '))\n",
    "    u = A*vasao\n",
    "    Ma = u/c\n",
    "    Re = (u*L)/nu\n",
    "    Kn = Ma/Re\n",
    "    print(f'O número de Reynolds é {Re}, o número de Mach é {Ma} e o de Knudsen é {Kn}.')\n",
    "elif scale == 'cm':\n",
    "    tens = 10**(-2)# Definido em metros\n",
    "    L = 7.07\n",
    "    L = L*(tens)\n",
    "    nu = 0.6752\n",
    "    nu = nu*10**(-6)\n",
    "    raio = 1.255\n",
    "    raio = raio*tens\n",
    "    A = 3.14*raio**2\n",
    "    vasao = 0.00000016\n",
    "    u = A*vasao\n",
    "    Ma = u/c\n",
    "    Re = (u*L)/nu\n",
    "    Kn = Ma/Re\n",
    "    print(f'O número de Reynolds é {Re}, o número de Mach é {Ma} e o de Knudsen é {Kn}.')"
   ]
  },
  {
   "cell_type": "markdown",
   "id": "26f95d81",
   "metadata": {},
   "source": [
    "**Lista de Símbolos:**\n",
    "- $L_L$ = comprimento em unidade de redes de Boltzmann, ou seja o número de nós do gride;\n",
    "- $\\nu_L$ = viscosidade cinemática da salmora em unidades de redes de Boltzmann;\n",
    "- $\\tau$ = tempo de relaxação da salmora;\n",
    "- $\\rho_L$ = densidade da salmora em unidades de redes de Boltzmann;\n",
    "- $\\nu_{Lo}$ = viscosidade cinemática do óleo em unidades de redes de Boltzmann;\n",
    "- $\\rho_L$ = densidade do óleo em unidades de redes de Boltzmann\n",
    "\n",
    "\n",
    "obs: Os valores sem índices estão em unidades do SI.\n",
    "\n",
    "---\n",
    "### Fator de conversão de comprimento $\\Delta x$\n",
    "\n",
    "\n",
    "\n",
    "Definimos aqui a escala caracterísitca pelos parâmetros $\\Delta x$, $\\Delta y$ e $\\Delta z$.\n",
    "\n",
    "Começamos com $\\Delta x$. Esse parâmetro é definido fazendo \n",
    "$$\\Delta x=\\frac{L}{L_L}$$. Vejamos o código abaixo usando $L=7.07 cm$ e $L_L = 250$. Podemos ver isso na figura \n",
    "\n",
    "\n",
    "<figure> \n",
    "    <img src=\"Sistema.png\" alt=\"drawing\" width=\"500\"/>\n",
    "    <figcaption align = \"center\">\n",
    "        <b>Fig.1 - Figura 1 \n",
    "        </b>\n",
    "    </figcaption>\n",
    "</figure>\n",
    "\n",
    "Neste exemplo, temos \n",
    "$$\\Delta x=\\frac{L}{L_L}=\\frac{7.07\\times10^{-2}\\,m}{250}=2.82\\times10^{-4}\\,m$$"
   ]
  },
  {
   "cell_type": "code",
   "execution_count": 29,
   "id": "56dc38f0",
   "metadata": {},
   "outputs": [
    {
     "name": "stdout",
     "output_type": "stream",
     "text": [
      "Dê a resolução do sistema: 250\n",
      "dx = 0.0002828m\n"
     ]
    }
   ],
   "source": [
    "import matplotlib.pyplot as plt\n",
    "import math\n",
    "import matplotlib.pyplot as plt\n",
    "import math\n",
    "L_L = int(input('Dê a resolução do sistema: '))\n",
    "dx = L/L_L\n",
    "print(f'dx = {dx}m')"
   ]
  },
  {
   "cell_type": "markdown",
   "id": "441b674c",
   "metadata": {},
   "source": [
    "---\n",
    "### Fator de conversão de tempo $\\Delta t$\n",
    "\n",
    "\n",
    "Agora, para definir o $\\Delta t$, temos o seguinte fator de conversão \n",
    "$$\\nu = \\frac{(\\Delta x)^2}{\\Delta t}\\nu_{L}$$\n",
    "\n",
    "A viscosidade cinemática é $\\nu = 0.6752\\times10^{-6}m^{2}/s.$\n",
    "\n",
    "A forma de determinar a viscosidade através do tempo de relaxação é através da análise de Chapmann-Enskog\n",
    "\n",
    "$$\\nu_L = \\frac{1}{3}\\left(\\tau - \\frac{1}{2}\\right), $$ \n",
    "\n",
    "\n",
    "Por fim, calculamos $\\Delta t:$\n",
    "\n",
    "\n",
    "$$\\Delta t = \\frac{\\nu_{L}}{\\nu}(\\Delta x)^2$$"
   ]
  },
  {
   "cell_type": "code",
   "execution_count": 30,
   "id": "d4a1481c",
   "metadata": {},
   "outputs": [
    {
     "name": "stdout",
     "output_type": "stream",
     "text": [
      "Dê o tempo de relaxação: 12\n",
      "3.833333333333333\n",
      "dt = 0.4540492496050552 s.\n"
     ]
    }
   ],
   "source": [
    "#Essa parte faz o cálculo da viscosidade cinemática em unidades de redes de Boltzmann usando o tempo de relaxação.\n",
    "tau_L = float(input('Dê o tempo de relaxação: '))\n",
    "nu_L = (1/3)*(tau_L - 0.5)\n",
    "print(nu_L)\n",
    "dt = (nu_L/nu)*(dx)**2\n",
    "print(f'dt = {dt} s.')"
   ]
  },
  {
   "cell_type": "markdown",
   "id": "53971d17",
   "metadata": {},
   "source": [
    "# Cálculo da velocidade em unidades de redes de Boltzmann\n",
    "\n",
    "---\n",
    "Temos que converter agora a velocidade em unidades de SI para unidades de redes de Boltzmann. Podemos fazer o seguinte\n",
    "\n",
    "$$\\mathbf{u}=\\frac{\\Delta t}{\\Delta x}\\mathbf{u}^{*}$$\n"
   ]
  },
  {
   "cell_type": "code",
   "execution_count": 31,
   "id": "c5ae135b",
   "metadata": {},
   "outputs": [
    {
     "name": "stdout",
     "output_type": "stream",
     "text": [
      "O valor da velocidade em unidades de redes de Boltzmann é 4.928485977295369e-14.\n"
     ]
    }
   ],
   "source": [
    "\n",
    "u_L = (dx/dt)*u\n",
    "print(f'O valor da velocidade em unidades de redes de Boltzmann é {u_L}.')"
   ]
  },
  {
   "cell_type": "markdown",
   "id": "8d2ea8a1",
   "metadata": {},
   "source": [
    "# Sistema Simulado\n",
    "\n",
    "## Salmora\n",
    "---\n",
    "\n",
    "Precisamos determinar os números adimensionais $Re=\\frac{\\mathbf{u}L_x}{\\nu^*}$, $Ma=\\frac{\\mathbf{u}}{\\left(c_s^{*}\\right)^2}$ e $Kn=\\frac{Ma}{Kn}$ e comparar, pelo menos o $Re$ pela lei de similaridade.\n",
    "\n",
    "$$Re = \\frac{\\mathbf{u}L_L}{\\nu}$$ e comparamos com o sistema real.\n",
    "\n",
    "Após a comparação, se não forem iguais, ajustamos os parâmetros e recalculamos."
   ]
  },
  {
   "cell_type": "code",
   "execution_count": 33,
   "id": "83521b9d",
   "metadata": {},
   "outputs": [
    {
     "name": "stdout",
     "output_type": "stream",
     "text": [
      "no\n",
      "O valor do Re é 3.2142299851926323e-12, de Mach é 2.845462705688777e-14, do tempo de relaxação é 12.0.\n"
     ]
    }
   ],
   "source": [
    "Ma_L = u_L/1/(3**(1/2))\n",
    "while True:\n",
    "    if Ma_L < 0.3:\n",
    "        break\n",
    "    else:\n",
    "        u_L = float(input('Velocidade com número de Mach menor que 0.3: '))\n",
    "        Ma_L = u_L/(1/(3**(1/2)))      \n",
    "Re_L =  u_L*L_L/nu_L\n",
    "erro = 10\n",
    "if Re_L+erro < Re_L < Re_L-erro:\n",
    "    print('ok')\n",
    "    print(f'O valor do Re é {Re_L}, de Mach é {Ma_L}, do tempo de relaxação é {tau_L}.')\n",
    "else:\n",
    "    print('no')\n",
    "    print(f'O valor do Re é {Re_L}, de Mach é {Ma_L}, do tempo de relaxação é {tau_L}.')"
   ]
  },
  {
   "cell_type": "markdown",
   "id": "ec8b4754",
   "metadata": {},
   "source": [
    "---\n",
    "### Fator de conversão de massa $\\Delta m$\n",
    "\n",
    "\n",
    "O fator de conversão de massa é calculado usando\n",
    "$$\\Delta m = \\left(\\frac{\\rho}{\\rho_L}\\right)\\Delta x^3.$$\n",
    "\n",
    "\n",
    "Pra isso, em unidades de redes de Boltzmann, definimos $\\rho_L = 1.$\n",
    "Assim, para este exemplo, a densidade média do sistema é a média das densidades dos dois fluidos\n",
    "$$\\Delta m = \\left(\\frac{\\rho}{\\rho_L}\\right)\\Delta x^3 = \\frac{943.529\\,kg/m^3}{1}(2.8\\times10^{-4}m)^3 = 2.07\\times10^{-8}\\,kg $$\n"
   ]
  },
  {
   "cell_type": "code",
   "execution_count": 32,
   "id": "92655182",
   "metadata": {},
   "outputs": [
    {
     "name": "stdout",
     "output_type": "stream",
     "text": [
      "dm = 2.1339953483171005e-08 \n"
     ]
    }
   ],
   "source": [
    "import numpy as np\n",
    "#Essa parte determina o valor da viscosidade cinemática a  partir da viscosidade dinâmica e densidade da salmora\n",
    "rho_L = 1 # Definido por arbitrariedade\n",
    "rho_b = 1058.058 # em kg/m^3\n",
    "rho_o = 829 # em kg/m^3\n",
    "rho = (rho_b+rho_o)/2\n",
    "dm = (rho/rho_L)*(dx)**3\n",
    "print(f'dm = {dm} ')"
   ]
  },
  {
   "cell_type": "markdown",
   "id": "4dfe121b",
   "metadata": {},
   "source": [
    "---\n",
    "## Óleo\n",
    "\n",
    "Agora é necessário determinar o tempo de relaxação do óleo. O primeiro passo, nesse sentido, é determinar sua viscosidade em unidades de redes de Boltzmann, tendo $\\nu_{Lo} = 4.6\\times10^{-6}\\,m^{2}/s,$ então\n",
    "\n",
    "$$\\nu_{Lo} = \\frac{\\Delta t}{(\\Delta x)^2} \\nu_o $$\n",
    "\n",
    "Daí, podemos determinar o tempo de relaxação para o óleo, que é\n",
    "$$0.45 = \\frac{1}{3}\\left(\\tau_{o} - \\frac{1}{2}\\right)\\longrightarrow \\tau_{o}= 1.85$$\n",
    "e assim temos $\\tau_{o} = 1.85$\n",
    "\n",
    "Por fim, determinamos a densidade do óleo em unidades de redes de Boltzmann fazendo\n",
    "$$\\rho_{Lo} = \\frac{(\\Delta x)^3}{\\Delta m} \\rho_o = .$$"
   ]
  },
  {
   "cell_type": "code",
   "execution_count": 34,
   "id": "5188e8ce",
   "metadata": {},
   "outputs": [
    {
     "name": "stdout",
     "output_type": "stream",
     "text": [
      "tau_o = 12.0.\n"
     ]
    }
   ],
   "source": [
    "#Essa parte determina o valor da viscosidade em unidades de redes de Boltzmann\n",
    "nu_o = 0.6752\n",
    "nu_o = (nu_o)*(10**(-6))\n",
    "nu_Lo = (dt/(dx)**2)*nu_o\n",
    "#Essa parte calcula o tempo de relaxação do óleo\n",
    "tau_o = 3*nu_Lo + 1/2\n",
    "print(f'tau_o = {tau_o}.')"
   ]
  },
  {
   "cell_type": "markdown",
   "id": "f55cdca5",
   "metadata": {},
   "source": [
    "---\n",
    "# Parâmetro de Força\n",
    "\n",
    "O parâmetro de força tem uma relação direta com a tensão interfacial entre os dois fluidos em unidades de redes de Boltzmann dada pela equação. Aqui é importante ressaltar que o valor de $gamma_L$ não pode ser maior que 0.3660. Por conta disso, é recomendável que se defina logo o seu valor.\n",
    "\n",
    "$$\\gamma_{L}=-1.361g^{2}_{12}+1.721g_{12}-0.178.$$\n",
    "\n",
    "Dessa forma, determina-se a tensão interfacial em unidades de redes de Boltzmann, assim\n",
    "\n",
    "$$\\gamma_L = \\gamma\\frac{(\\Delta t)^2}{\\Delta m}.$$\n",
    "\n",
    "Daí, resolvendo a equação \n",
    "\n",
    "$$\\gamma_L=-1.361g^{2}_{12}+1.721g_{12}-0.178.$$"
   ]
  },
  {
   "cell_type": "code",
   "execution_count": 53,
   "id": "036b49bf",
   "metadata": {},
   "outputs": [
    {
     "name": "stdout",
     "output_type": "stream",
     "text": [
      "Os valores de g são -382.70968103137864 e 383.97419242006345.\n"
     ]
    }
   ],
   "source": [
    "#Essa parte determina o parâmetro de tensão interfacial\n",
    "#====Interfacial Tension Brine====\n",
    "#gamma = float(input('Valor de tensão interfacial do sistema fluido/fluido: '))\n",
    "#gamma_L = gamma*(((dt)**2)/dm)\n",
    "#print(gamma_L)\n",
    "D = ((1.721)**2 - 4*(-1.361)*(-gamma_L - 0.178))\n",
    "x1 = (-(1.721) + D**(1/2)) / (2*(-1.361))\n",
    "x2 = (-(1.721) - D**(1/2)) / (2*(-1.361))\n",
    "print(f'Os valores de g são {x1} e {x2}.')"
   ]
  },
  {
   "cell_type": "markdown",
   "id": "185ac35e",
   "metadata": {},
   "source": [
    "# Conclusão\n",
    "\n",
    "Usando esta estratégia de cálculo, não conseguimos usar os parâmetros. Isso se dá, pois o valor de tensão superficial em redes de Boltzmann, deve ser tal que a equação que determina o parâmetro de força tenha solução real. Para isso, o valor $\\gamma_L$ deve ser escolhido de forma a ser $\\gamma_L<0.3660.$"
   ]
  }
 ],
 "metadata": {
  "kernelspec": {
   "display_name": "Python 3 (ipykernel)",
   "language": "python",
   "name": "python3"
  },
  "language_info": {
   "codemirror_mode": {
    "name": "ipython",
    "version": 3
   },
   "file_extension": ".py",
   "mimetype": "text/x-python",
   "name": "python",
   "nbconvert_exporter": "python",
   "pygments_lexer": "ipython3",
   "version": "3.9.7"
  }
 },
 "nbformat": 4,
 "nbformat_minor": 5
}
