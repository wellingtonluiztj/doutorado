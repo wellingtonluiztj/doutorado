{
 "cells": [
  {
   "cell_type": "markdown",
   "id": "ffe80a29",
   "metadata": {},
   "source": [
    "# Sistema Real\n",
    "\n",
    "\n",
    "A vasão é $Q=2.5\\mu L/min$ ou em SI é $Q=4.16\\times10^{-11}m^{3}/s$. Portanto a velocidade média do fluido é dada por \n",
    "\n",
    "$$\\mathbf{u}=\\frac{Q}{A}.$$\n",
    "\n",
    "- Diâmetro $D = 7.21\\times 10^{-3}m;$\n",
    "\n",
    "- Profundidade do chip igual $1\\mu m;$\n",
    "\n",
    "- Área $A=7.21\\times 10^{-9} m^2.$ \n",
    "\n",
    "\n",
    "Dessa forma,temos que \n",
    "\n",
    "$$\\mathbf{u}=\\frac{\\left(4.16\\times10^{-11}m^{3}/s\\right)}{\\left(7.21\\times 10^{-9} m^2\\right)}=5.7\\times 10^{-3}m/s$$\n",
    "\n",
    "\n",
    "## Calculando o número de Reynolds\n",
    "\n",
    "Comprimento do microchip $L=7265\\times10^{-6}\\,m,$ temos\n",
    "$$Re=\\frac{\\mathbf{u}L_x}{\\nu}=\\frac{5.70\\times 10^{-3}m/s\\times 1.00\\times10^{-2}\\,m}{6.75\\times 10^{-7}\\,m^2/s}\\approx84$$\n",
    "\n",
    "$Re < 2300$ é um regime estacionário e $Re\\ll1$ está no regime do fluxo de Darcy.\n",
    "\n",
    "## Definindo o número de Mach\n",
    "Agora, para calcular o número de Mach, fazemos\n",
    "\n",
    "$$Ma=\\frac{(5.7\\times 10^{-3}m/s)}{340.29\\,m/s}\\approx1.7\\times 10^{-5}.$$\n",
    "\n",
    "$Ma\\ll 0.3$ é o parâmetro de fluxo incompressível.\n",
    "\n",
    "## Calculando o número de Knudsen\n",
    "\n",
    "O número de Knudsen é dado por $$Kn=\\frac{Ma}{Re}=\\frac{1.7\\times 10^{-5}}{84}\\approx2\\times10^{-7}$$\n",
    "\n",
    "O fluxo de deslizamento é caracterizado pelo valor do número de Knudsen sendo $\\displaystyle 0.01< Kn< 10.$\n",
    "\n"
   ]
  },
  {
   "cell_type": "code",
   "execution_count": 107,
   "id": "43a565e8",
   "metadata": {},
   "outputs": [
    {
     "name": "stdout",
     "output_type": "stream",
     "text": [
      "0.005769764216366157\n",
      "O número de Reynolds é 69.76920278278983, o número de Mach é 1.6955432767246043e-05 e o de Knudsen é 2.4302173582279326e-07.\n"
     ]
    }
   ],
   "source": [
    "import numpy as np\n",
    "RS = []\n",
    "# Aqui, calculamos o número de Reynolds, Mach e Knudsen\n",
    "c = 340.29\n",
    "scale = 10**(-6)# Definido em metros\n",
    "D = 7265#10091 # float(input('Comprimento da amostra em micrometros: '))\n",
    "D = D*(scale)\n",
    "nu = 0.6008 # float(input('Viscosidade do fluido: '))\n",
    "nu = nu*10**(-6)\n",
    "raio = 3606 # float(input('Raio da amostra em micrometros: '))\n",
    "raio = raio*tens\n",
    "A = 7.21*10**(-9)\n",
    "vasao = 4.16e-11 #float(input('Vasão em m^3/s: '))\n",
    "u = vasao/A\n",
    "print(u)\n",
    "Ma = u/c\n",
    "Re = (u*D)/nu\n",
    "Kn = Ma/Re\n",
    "print(f'O número de Reynolds é {Re}, o número de Mach é {Ma} e o de Knudsen é {Kn}.')\n",
    "\n",
    "RS.append(Re)\n",
    "RS.append(Ma)\n",
    "RS.append(Kn)\n",
    "RS = np.array(RS)\n",
    "\n",
    "file = open('Parametros.txt', 'w')\n",
    "np.savetxt(\"Parametros.txt\", RS, delimiter =\", \")"
   ]
  },
  {
   "cell_type": "markdown",
   "id": "26f95d81",
   "metadata": {},
   "source": [
    "---\n",
    "### Fator de conversão de comprimento $\\Delta x$\n",
    "\n",
    "\n",
    "\n",
    "Definimos aqui a escala caracterísitca pelos parâmetros $\\Delta x$, $\\Delta y$ e $\\Delta z$.\n",
    "\n",
    "Começamos com $\\Delta x$. Esse parâmetro é definido fazendo \n",
    "$$\\Delta x=\\frac{L}{L_L}$$. Usando o tamanho de poro, $L=7265\\times10^{-6}\\,m$ e $L_L = 1000.$ \n",
    "\n",
    "Neste exemplo, temos \n",
    "$$\\Delta x=\\frac{L}{L_L}=\\frac{7265\\times10^{-6}\\,m}{1000}=10.91\\times10^{-6}\\,m$$"
   ]
  },
  {
   "cell_type": "code",
   "execution_count": 139,
   "id": "56dc38f0",
   "metadata": {},
   "outputs": [
    {
     "name": "stdout",
     "output_type": "stream",
     "text": [
      "Defina o comprimento do grid: 731\n",
      "dx = 1.380437756497948e-05m\n"
     ]
    }
   ],
   "source": [
    "import matplotlib.pyplot as plt\n",
    "import math\n",
    "import matplotlib.pyplot as plt\n",
    "import math\n",
    "L_L = int(input('Defina o comprimento do grid: '))\n",
    "dx = L/L_L\n",
    "print(f'dx = {dx}m')"
   ]
  },
  {
   "cell_type": "markdown",
   "id": "ec8b4754",
   "metadata": {},
   "source": [
    "---\n",
    "### Fator de conversão de massa $\\Delta m$\n",
    "\n",
    "\n",
    "O fator de conversão de massa é calculado usando\n",
    "$$\\Delta m = \\left(\\frac{\\rho}{\\rho_L}\\right)\\Delta x^3.$$\n",
    "\n",
    "\n",
    "Pra isso, em unidades de redes de Boltzmann, definimos $\\rho_L = 1.$\n",
    "Assim, para este exemplo, a densidade média do sistema é a média das densidades dos dois fluidos\n",
    "$$\\Delta m = \\left(\\frac{\\rho}{\\rho_L}\\right)\\Delta x^3 = \\frac{943.529\\,kg/m^3}{1}(2.8\\times10^{-4}m)^3 = 2.07\\times10^{-8}\\,kg $$\n"
   ]
  },
  {
   "cell_type": "code",
   "execution_count": 140,
   "id": "92655182",
   "metadata": {},
   "outputs": [
    {
     "name": "stdout",
     "output_type": "stream",
     "text": [
      "dm = 2.3986545073528897e-11 \n"
     ]
    }
   ],
   "source": [
    "import numpy as np\n",
    "#Essa parte determina o valor da viscosidade cinemática a  partir da viscosidade dinâmica e densidade da salmora\n",
    "rho_L = 0.1 # Definido por arbitrariedade\n",
    "rho_b = 994.674 #float(input('Valor da densidade da salmora: ')) # em kg/m^3\n",
    "rho_o = 829 #float(input('Valor da densidade do óleo: ')) # em kg/m^3\n",
    "rho = (rho_b+rho_o)/2\n",
    "dm = (rho/rho_L)*(dx)**3\n",
    "print(f'dm = {dm} ')"
   ]
  },
  {
   "cell_type": "markdown",
   "id": "441b674c",
   "metadata": {},
   "source": [
    "---\n",
    "### Fator de conversão de tempo $\\Delta t$\n",
    "\n",
    "\n",
    "Agora, para definir o $\\Delta t$, temos o seguinte fator de conversão. Para isso, usamos a tensão interfacial.\n",
    "\n",
    "À princípio, definimos $\\gamma_L = 0.1,$ pois temos deve ser um valor menor que $0.3660$.\n",
    "\n",
    "$$\\gamma = \\frac{(\\Delta m)}{(\\Delta t)^{2}}\\gamma_{L}$$\n",
    "\n",
    "A tensão interfacial é $\\gamma = 0.0105\\,kg/s^2.$\n",
    "\n",
    "Assim, temos\n",
    "$$\\Delta t = \\sqrt{\\frac{\\Delta m}{\\gamma}\\gamma_L}$$\n",
    "\n",
    "e\n",
    "\n",
    "$$\\Delta t = \\sqrt{\\frac{(2.07\\times10^{-8}\\,kg) }{(0.0105\\,kg/s^2)}0.1}=4.44\\times10^{-4}s$$\n"
   ]
  },
  {
   "cell_type": "code",
   "execution_count": 141,
   "id": "d4a1481c",
   "metadata": {},
   "outputs": [
    {
     "name": "stdout",
     "output_type": "stream",
     "text": [
      "dt = 1.1996635796804594e-05 s.\n"
     ]
    }
   ],
   "source": [
    "#Essa parte faz o cálculo da viscosidade cinemática em unidades de redes de Boltzmann usando o tempo de relaxação.\n",
    "gamma = 0.0225 #float(input('Valor da tensão interfacial: '))\n",
    "gamma_L = 0.135 #float(input('Valor da tensão interfacial em LBM: ')) #0.1\n",
    "dt = ((dm*gamma_L)/gamma)**(1/2)\n",
    "print(f'dt = {dt} s.')"
   ]
  },
  {
   "cell_type": "markdown",
   "id": "b40ccf2c",
   "metadata": {},
   "source": [
    "# Velocidade de Injeção"
   ]
  },
  {
   "cell_type": "code",
   "execution_count": 142,
   "id": "de80ae47",
   "metadata": {},
   "outputs": [
    {
     "name": "stdout",
     "output_type": "stream",
     "text": [
      "0.00501418913032196\n"
     ]
    }
   ],
   "source": [
    "u_L = (dt/dx)*u\n",
    "print(u_L)"
   ]
  },
  {
   "cell_type": "markdown",
   "id": "8d2ea8a1",
   "metadata": {},
   "source": [
    "# Sistema Simulado\n",
    "## Salmora\n",
    "\n",
    "Agora o parâmetro $\\tau$ não é mais livre, pois ele está amarrado ao valor dse viscosidade, que já está ligado à escala característica\n",
    "\n",
    "O capítulo 7 do livro *Lattice Boltzmann Methode: Priciples and Practice* explica o que deve ser levado em conta ao fazer a conversão.\n",
    " \n",
    "- É necessário ter $0.5<\\tau^{*};$ \n",
    "- Determina-se a viscosidade adimensional usando a escala característica;\n",
    "- Calculamos o valor de $Re$ e vemos o critério de similaridade.\n",
    "---\n"
   ]
  },
  {
   "cell_type": "code",
   "execution_count": 143,
   "id": "83521b9d",
   "metadata": {},
   "outputs": [
    {
     "name": "stdout",
     "output_type": "stream",
     "text": [
      "O valor da viscosidade é 0.037822979728495985\n",
      "O valor do Re é 93.06407889471657, de Mach é 0.0028949434441590794, do tempo de relaxação da água pura é 0.613468939185488.\n"
     ]
    }
   ],
   "source": [
    "nu_L = (dt/((dx)**2))*nu\n",
    "print(f'O valor da viscosidade é {nu_L}')\n",
    "tau_L = 3*nu_L+0.5\n",
    "D = 702\n",
    "Re_L =  (u_L*D)/nu_L\n",
    "Ma_L = u_L/(3**(1/2))      \n",
    "\n",
    "print(f'O valor do Re é {Re_L}, de Mach é {Ma_L}, do tempo de relaxação da água pura é {tau_L}.')"
   ]
  },
  {
   "cell_type": "markdown",
   "id": "4dfe121b",
   "metadata": {},
   "source": [
    "---\n",
    "## Óleo\n",
    "\n",
    "Agora é necessário determinar o tempo de relaxação do óleo. O primeiro passo, nesse sentido, é determinar sua viscosidade em unidades de redes de Boltzmann, tendo $\\nu_{o} = 4.6\\times10^{-6}\\,m^{2}/s,$ então\n",
    "\n",
    "$$\\nu_{Lo} = \\frac{\\Delta t}{(\\Delta x)^2} \\nu_o = \\frac{0.00045\\,s}{(0.00028\\,m)^{2}}(4.6\\times10^{-6}\\,m^{2}/s) = 0.0264.$$\n",
    "\n",
    "Daí, podemos determinar o tempo de relaxação para o óleo, que é\n",
    "$$0.0264 = \\frac{1}{3}\\left(\\tau_{o} - \\frac{1}{2}\\right)\\longrightarrow \\tau_{o}= 0.57$$\n",
    "e assim temos $\\tau_{o} = 0.57$"
   ]
  },
  {
   "cell_type": "code",
   "execution_count": 144,
   "id": "5188e8ce",
   "metadata": {},
   "outputs": [
    {
     "name": "stdout",
     "output_type": "stream",
     "text": [
      "tau_o = 1.3687701735240423.\n"
     ]
    }
   ],
   "source": [
    "#Essa parte determina o valor da viscosidade em unidades de redes de Boltzmann\n",
    "nu_o = 4.6 #float(input('Viscosidade do óleo: '))\n",
    "nu_o = (nu_o)*(10**(-6))\n",
    "nu_Lo = ((dt)/(dx)**2)*nu_o\n",
    "#Essa parte calcula o tempo de relaxação do óleo\n",
    "tau_o = 3*nu_Lo + 1/2\n",
    "print(f'tau_o = {tau_o}.')"
   ]
  },
  {
   "cell_type": "markdown",
   "id": "de66050c",
   "metadata": {},
   "source": [
    "---\n",
    "# Parâmetro de Força\n",
    "\n",
    "O parâmetro de força tem uma relação direta com a tensão interfacial entre os dois fluidos em unidades de redes de Boltzmann dada pela equação. Aqui é importante ressaltar que o valor de $\\gamma_L$ não pode ser maior que 0.3660. Por conta disso, é recomendável que se defina logo o seu valor.\n",
    "\n",
    "$$\\gamma_{L}=-1.361g^{2}_{12}+1.721g_{12}-0.178.$$\n",
    "\n",
    "Dessa forma, determina-se a tensão interfacial em unidades de redes de Boltzmann definindo $\\gamma = 0.1$\n",
    "\n",
    "$$\\gamma_{L}=-1.361g^{2}_{12}+1.721g_{12}-0.178.$$"
   ]
  },
  {
   "cell_type": "code",
   "execution_count": 145,
   "id": "9c020e71",
   "metadata": {},
   "outputs": [
    {
     "name": "stdout",
     "output_type": "stream",
     "text": [
      "Os valores de g para água pura são 0.22022498475376753 e 1.0442864039310231.\n"
     ]
    }
   ],
   "source": [
    "#Essa parte determina o parâmetro de tensão interfacial\n",
    "#====Interfacial Tension Brine====\n",
    "#gamma = float(input('Valor de tensão interfacial do sistema fluido/fluido: '))\n",
    "#gamma_L = gamma*(((dt)**2)/dm)\n",
    "#print(gamma_L)\n",
    "D = ((1.721)**2 - 4*(-1.361)*(-gamma_L- 0.178))\n",
    "x1 = (-(1.721) + D**(1/2)) / (2*(-1.361))\n",
    "x2 = (-(1.721) - D**(1/2)) / (2*(-1.361))\n",
    "print(f'Os valores de g para água pura são {x1} e {x2}.')"
   ]
  },
  {
   "cell_type": "markdown",
   "id": "dde1fbf1",
   "metadata": {},
   "source": [
    "# Cálculo dos parâmetros para a salmora sem NaCl \n",
    "\n",
    "Já definida escala característica, agora apenas convertem-se os dados do SI para unidades de LB.\n",
    "\n",
    "De\n",
    "- $\\gamma_{0.00} = 0.0225 kg/s^2$;\n",
    "- $\\nu_{0.00} = 0.6008\\times10^{-6}m^2/s $\n",
    "\n",
    "Em unidades de redes de Boltzmann, temos\n",
    "\n",
    "$$\\nu ^{\\star} =\\nu \\frac{\\Delta t}{( \\Delta x)^{2}}.$$\n",
    "\n",
    "Temos\n",
    "\n",
    "$$\\nu ^{\\star} = 0.6008\\times10^{-6} \\frac{5.230\\times 10^{-6}}{(6.727 \\times 10^{-6})^{2}}$$"
   ]
  },
  {
   "cell_type": "code",
   "execution_count": 146,
   "id": "ff90c365",
   "metadata": {},
   "outputs": [
    {
     "name": "stdout",
     "output_type": "stream",
     "text": [
      " O tempo de relaxação para Low Salinity é 0.6138277790397696.\n",
      " O tempo de relaxação para High Salinity é 0.6275203524268333.\n"
     ]
    }
   ],
   "source": [
    "######################################################\n",
    "nu_005 = 0.6027e-6\n",
    "nu_005_LBM = nu_005*(dt/(dx)**2)\n",
    "tau_005_LBM = 3*nu_005_LBM + 1/2\n",
    "print(f' O tempo de relaxação para Low Salinity é {tau_005_LBM}.')\n",
    "\n",
    "######################################################\n",
    "nu_172 = 0.6752e-6\n",
    "nu_172_LBM = nu_172*(dt/(dx)**2)\n",
    "tau_172_LBM = 3*nu_172_LBM + 1/2\n",
    "print(f' O tempo de relaxação para High Salinity é {tau_172_LBM}.')\n"
   ]
  },
  {
   "cell_type": "markdown",
   "id": "da9f7320",
   "metadata": {},
   "source": [
    "## Parâmetro de Força"
   ]
  },
  {
   "cell_type": "code",
   "execution_count": 147,
   "id": "b4c85de1",
   "metadata": {},
   "outputs": [
    {
     "name": "stdout",
     "output_type": "stream",
     "text": [
      "Os valores de g para Low Salinity são 0.2122770158821336 e 1.052234372802657.\n",
      "Os valores de g para High Salinity são 0.1603747947701979 e 1.1041365939145926.\n"
     ]
    }
   ],
   "source": [
    "#######################################################\n",
    "gamma_005 = 0.0210\n",
    "gamma_005_LBM = ((dt)**2)*(gamma_005/dm)\n",
    "D = ((1.721)**2 - 4*(-1.361)*(-gamma_005_LBM - 0.178))\n",
    "x1 = (-(1.721) + D**(1/2)) / (2*(-1.361))\n",
    "x2 = (-(1.721) - D**(1/2)) / (2*(-1.361))\n",
    "print(f'Os valores de g para Low Salinity são {x1} e {x2}.')\n",
    "#######################################################\n",
    "gamma_172 = 0.0105\n",
    "gamma_172_LBM = ((dt)**2)*(gamma_172/dm)\n",
    "D = ((1.721)**2 - 4*(-1.361)*(-gamma_172_LBM - 0.178))\n",
    "x1 = (-(1.721) + D**(1/2)) / (2*(-1.361))\n",
    "x2 = (-(1.721) - D**(1/2)) / (2*(-1.361))\n",
    "print(f'Os valores de g para High Salinity são {x1} e {x2}.')\n"
   ]
  },
  {
   "cell_type": "code",
   "execution_count": 148,
   "id": "e438eb33",
   "metadata": {},
   "outputs": [
    {
     "name": "stdout",
     "output_type": "stream",
     "text": [
      "A densidade para Pure Water é 0.09999989033127633.\n",
      "A densidade para Low Salinity é 0.10010095006015331.\n"
     ]
    }
   ],
   "source": [
    "\n",
    "rho_b_0 = 994.672 #float(input('Valor da densidade da salmora: ')) # em kg/m^3\n",
    "rho = (rho_b_0+rho_o)/2\n",
    "rho_LBM = rho*((dx)**3)/dm\n",
    "print(f'A densidade para Pure Water é {rho_LBM}.')\n",
    "\n",
    "rho_b_005 = 996.515 #float(input('Valor da densidade da salmora: ')) # em kg/m^3\n",
    "rho = (rho_b_005+rho_o)/2\n",
    "rho_LBM = rho*((dx)**3)/dm\n",
    "print(f'A densidade para Low Salinity é {rho_LBM}.')"
   ]
  },
  {
   "cell_type": "markdown",
   "id": "c990642d",
   "metadata": {},
   "source": [
    "# Conclusão\n",
    "\n",
    "Usando esta estratégia de cálculo, não conseguimos usar os parâmetros. Isso se dá, pois o valor de tensão superficial em redes de Boltzmann, deve ser tal que a equação que determina o parâmetro de força tenha solução real. Para isso, o valor $\\gamma_L$ deve ser escolhido de forma a ser $\\gamma_L<0.3660.$"
   ]
  }
 ],
 "metadata": {
  "kernelspec": {
   "display_name": "Python 3 (ipykernel)",
   "language": "python",
   "name": "python3"
  },
  "language_info": {
   "codemirror_mode": {
    "name": "ipython",
    "version": 3
   },
   "file_extension": ".py",
   "mimetype": "text/x-python",
   "name": "python",
   "nbconvert_exporter": "python",
   "pygments_lexer": "ipython3",
   "version": "3.9.12"
  }
 },
 "nbformat": 4,
 "nbformat_minor": 5
}
