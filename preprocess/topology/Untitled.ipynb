{
 "cells": [
  {
   "cell_type": "code",
   "execution_count": 79,
   "id": "f315ba2c",
   "metadata": {},
   "outputs": [
    {
     "ename": "SyntaxError",
     "evalue": "cannot assign to function call (199799929.py, line 9)",
     "output_type": "error",
     "traceback": [
      "\u001b[0;36m  File \u001b[0;32m\"/tmp/ipykernel_829473/199799929.py\"\u001b[0;36m, line \u001b[0;32m9\u001b[0m\n\u001b[0;31m    df.loc(['Nx'][81588]) = 1\u001b[0m\n\u001b[0m    ^\u001b[0m\n\u001b[0;31mSyntaxError\u001b[0m\u001b[0;31m:\u001b[0m cannot assign to function call\n"
     ]
    }
   ],
   "source": [
    "import pandas as pd\n",
    "import numpy as np\n",
    "\n",
    "\n",
    "df=pd.read_csv('sand.dat', sep=' ', header=None, names=['Nx', 'Ny'])\n",
    "df\n",
    "#for i in range(10,174):\n",
    "#    df['Nx'][i]=i\n",
    "df.loc(['Nx'][81588]) = 1\n",
    "df['Nx'][81588]\n",
    "#print(df['Ny'][173])\n",
    "#fil =  df.groupby('Nx').filter(lambda x : len(x)<8)\n",
    "\n",
    "#fil\n",
    "#np.savetxt(r'sand1.dat', fil.values, fmt='%i')\n",
    "#df = pd.DataFrame(\"sand1.dat\")"
   ]
  }
 ],
 "metadata": {
  "kernelspec": {
   "display_name": "Python 3 (ipykernel)",
   "language": "python",
   "name": "python3"
  },
  "language_info": {
   "codemirror_mode": {
    "name": "ipython",
    "version": 3
   },
   "file_extension": ".py",
   "mimetype": "text/x-python",
   "name": "python",
   "nbconvert_exporter": "python",
   "pygments_lexer": "ipython3",
   "version": "3.9.7"
  }
 },
 "nbformat": 4,
 "nbformat_minor": 5
}
